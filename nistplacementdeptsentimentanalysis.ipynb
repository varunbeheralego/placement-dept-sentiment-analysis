{
 "cells": [
  {
   "cell_type": "code",
   "execution_count": 1,
   "metadata": {
    "_uuid": "282e27920f9f9fb8d4327e94350e5b2fbb5efbf6"
   },
   "outputs": [],
   "source": []
  },
  {
   "cell_type": "code",
   "execution_count": 1,
   "metadata": {
    "_cell_guid": "b1076dfc-b9ad-4769-8c92-a6c4dae69d19",
    "_uuid": "8f2839f25d086af736a60e9eeb907d3b93b6e0e5"
   },
   "outputs": [
    {
     "name": "stdout",
     "output_type": "stream",
     "text": [
      "['placement_survey_data.csv']\n"
     ]
    }
   ],
   "source": [
    "# This Python 3 environment comes with many helpful analytics libraries installed\n",
    "# It is defined by the kaggle/python docker image: https://github.com/kaggle/docker-python\n",
    "# For example, here's several helpful packages to load in \n",
    "\n",
    "import numpy as np # linear algebra\n",
    "import pandas as pd # data processing, CSV file I/O (e.g. pd.read_csv)\n",
    "\n",
    "# Input data files are available in the \"../input/\" directory.\n",
    "# For example, running this (by clicking run or pressing Shift+Enter) will list the files in the input directory\n",
    "\n",
    "import os\n",
    "print(os.listdir(\"../input\"))\n",
    "\n",
    "# Any results you write to the current directory are saved as output."
   ]
  },
  {
   "cell_type": "markdown",
   "metadata": {
    "_uuid": "a5038abc6c8f47da0eb1a837b8a673148de18949"
   },
   "source": [
    "Importing Necessary Libraries"
   ]
  },
  {
   "cell_type": "code",
   "execution_count": 2,
   "metadata": {
    "_cell_guid": "79c7e3d0-c299-4dcb-8224-4455121ee9b0",
    "_uuid": "d629ff2d2480ee46fbb7e2d37f6b5fab8052498a"
   },
   "outputs": [],
   "source": [
    "import nltk, re, time\n",
    "from nltk.corpus import stopwords\n",
    "from nltk.stem.porter import PorterStemmer\n",
    "from tqdm import tqdm\n",
    "from sklearn.feature_extraction.text import CountVectorizer\n",
    "from sklearn.model_selection import train_test_split\n",
    "from sklearn.preprocessing import StandardScaler\n",
    "from sklearn.neural_network import MLPClassifier\n",
    "from sklearn.metrics import accuracy_score\n",
    "import random"
   ]
  },
  {
   "cell_type": "markdown",
   "metadata": {
    "_uuid": "272b07c26989cd6509f5b2290d744db9f21432a9"
   },
   "source": [
    "Importing Data"
   ]
  },
  {
   "cell_type": "code",
   "execution_count": 3,
   "metadata": {
    "_uuid": "e69837bd6e96bf577089a477a961522410bc8f95"
   },
   "outputs": [
    {
     "data": {
      "text/html": [
       "<div>\n",
       "<style scoped>\n",
       "    .dataframe tbody tr th:only-of-type {\n",
       "        vertical-align: middle;\n",
       "    }\n",
       "\n",
       "    .dataframe tbody tr th {\n",
       "        vertical-align: top;\n",
       "    }\n",
       "\n",
       "    .dataframe thead th {\n",
       "        text-align: right;\n",
       "    }\n",
       "</style>\n",
       "<table border=\"1\" class=\"dataframe\">\n",
       "  <thead>\n",
       "    <tr style=\"text-align: right;\">\n",
       "      <th></th>\n",
       "      <th>Timestamp</th>\n",
       "      <th>Email Address</th>\n",
       "      <th>Mobile No.</th>\n",
       "      <th>Roll No.</th>\n",
       "      <th>Future Plans</th>\n",
       "      <th>Feedback regarding all placement related activities conducted till date.</th>\n",
       "      <th>How would you rate the placement department?</th>\n",
       "      <th>How would your rate your overall experience at NIST?</th>\n",
       "      <th>Please give any concerns or queries you might have for the Placement cell.</th>\n",
       "    </tr>\n",
       "  </thead>\n",
       "  <tbody>\n",
       "    <tr>\n",
       "      <th>0</th>\n",
       "      <td>2/9/2019 13:51:23</td>\n",
       "      <td>hrudanginib@gmail.com</td>\n",
       "      <td>7978031518</td>\n",
       "      <td>201611905</td>\n",
       "      <td>Placement</td>\n",
       "      <td>More exams such as cocubes test might help.Eng...</td>\n",
       "      <td>4</td>\n",
       "      <td>4</td>\n",
       "      <td>Not excellent but okay.</td>\n",
       "    </tr>\n",
       "    <tr>\n",
       "      <th>1</th>\n",
       "      <td>2/9/2019 14:00:45</td>\n",
       "      <td>varunbeheralego@gmail.com</td>\n",
       "      <td>9870437076</td>\n",
       "      <td>201640285</td>\n",
       "      <td>Higher Studies</td>\n",
       "      <td>Lame.</td>\n",
       "      <td>1</td>\n",
       "      <td>1</td>\n",
       "      <td>Shit.</td>\n",
       "    </tr>\n",
       "    <tr>\n",
       "      <th>2</th>\n",
       "      <td>2/9/2019 15:26:41</td>\n",
       "      <td>samalsagar617@gmail.com</td>\n",
       "      <td>9556901600</td>\n",
       "      <td>201610212</td>\n",
       "      <td>Placement</td>\n",
       "      <td>Good but still need improvement</td>\n",
       "      <td>4</td>\n",
       "      <td>4</td>\n",
       "      <td>More focus should give to every individual</td>\n",
       "    </tr>\n",
       "    <tr>\n",
       "      <th>3</th>\n",
       "      <td>2/9/2019 15:28:40</td>\n",
       "      <td>ashutosh.satapathy1112@gmail.com</td>\n",
       "      <td>917537093814</td>\n",
       "      <td>201610548</td>\n",
       "      <td>Placement</td>\n",
       "      <td>Should improve</td>\n",
       "      <td>4</td>\n",
       "      <td>4</td>\n",
       "      <td>NaN</td>\n",
       "    </tr>\n",
       "    <tr>\n",
       "      <th>4</th>\n",
       "      <td>2/9/2019 15:29:42</td>\n",
       "      <td>ajit0504follow@gmail.com</td>\n",
       "      <td>8249543292</td>\n",
       "      <td>201610087</td>\n",
       "      <td>Placement</td>\n",
       "      <td>No serious step towards secured placement</td>\n",
       "      <td>2</td>\n",
       "      <td>2</td>\n",
       "      <td>NaN</td>\n",
       "    </tr>\n",
       "  </tbody>\n",
       "</table>\n",
       "</div>"
      ],
      "text/plain": [
       "           Timestamp                                    ...                                     Please give any concerns or queries you might have for the Placement cell.\n",
       "0  2/9/2019 13:51:23                                    ...                                                               Not excellent but okay.                         \n",
       "1  2/9/2019 14:00:45                                    ...                                                                                  Shit.                        \n",
       "2  2/9/2019 15:26:41                                    ...                                             More focus should give to every individual                        \n",
       "3  2/9/2019 15:28:40                                    ...                                                                                    NaN                        \n",
       "4  2/9/2019 15:29:42                                    ...                                                                                    NaN                        \n",
       "\n",
       "[5 rows x 9 columns]"
      ]
     },
     "execution_count": 3,
     "metadata": {},
     "output_type": "execute_result"
    }
   ],
   "source": [
    "data = pd.read_csv(\"../input/placement_survey_data.csv\")\n",
    "data.head()"
   ]
  },
  {
   "cell_type": "markdown",
   "metadata": {
    "_uuid": "6d97b3d1571301d3a750528cfe4fd5c22812d3dd"
   },
   "source": [
    "Choosing Required Columns"
   ]
  },
  {
   "cell_type": "code",
   "execution_count": 4,
   "metadata": {
    "_uuid": "60caa8bfc84b27a95307843c66c6479e57952e3a"
   },
   "outputs": [
    {
     "data": {
      "text/html": [
       "<div>\n",
       "<style scoped>\n",
       "    .dataframe tbody tr th:only-of-type {\n",
       "        vertical-align: middle;\n",
       "    }\n",
       "\n",
       "    .dataframe tbody tr th {\n",
       "        vertical-align: top;\n",
       "    }\n",
       "\n",
       "    .dataframe thead th {\n",
       "        text-align: right;\n",
       "    }\n",
       "</style>\n",
       "<table border=\"1\" class=\"dataframe\">\n",
       "  <thead>\n",
       "    <tr style=\"text-align: right;\">\n",
       "      <th></th>\n",
       "      <th>review</th>\n",
       "      <th>liked</th>\n",
       "    </tr>\n",
       "  </thead>\n",
       "  <tbody>\n",
       "    <tr>\n",
       "      <th>0</th>\n",
       "      <td>More exams such as cocubes test might help.Eng...</td>\n",
       "      <td>4</td>\n",
       "    </tr>\n",
       "    <tr>\n",
       "      <th>1</th>\n",
       "      <td>Lame.</td>\n",
       "      <td>1</td>\n",
       "    </tr>\n",
       "    <tr>\n",
       "      <th>2</th>\n",
       "      <td>Good but still need improvement</td>\n",
       "      <td>4</td>\n",
       "    </tr>\n",
       "    <tr>\n",
       "      <th>3</th>\n",
       "      <td>Should improve</td>\n",
       "      <td>4</td>\n",
       "    </tr>\n",
       "    <tr>\n",
       "      <th>4</th>\n",
       "      <td>No serious step towards secured placement</td>\n",
       "      <td>2</td>\n",
       "    </tr>\n",
       "  </tbody>\n",
       "</table>\n",
       "</div>"
      ],
      "text/plain": [
       "                                              review  liked\n",
       "0  More exams such as cocubes test might help.Eng...      4\n",
       "1                                              Lame.      1\n",
       "2                    Good but still need improvement      4\n",
       "3                                     Should improve      4\n",
       "4          No serious step towards secured placement      2"
      ]
     },
     "execution_count": 4,
     "metadata": {},
     "output_type": "execute_result"
    }
   ],
   "source": [
    "data = data[['Feedback regarding all placement related activities conducted till date.','How would you rate the placement department?']]\n",
    "data.columns = ['review','liked']\n",
    "data.head()"
   ]
  },
  {
   "cell_type": "markdown",
   "metadata": {
    "_uuid": "a0d3977ac40bda4c2af5583f135656a93d09a5be"
   },
   "source": [
    "Binarizing Class"
   ]
  },
  {
   "cell_type": "code",
   "execution_count": 5,
   "metadata": {
    "_uuid": "00bfe17c875188071303bad60aee090db280032d"
   },
   "outputs": [
    {
     "data": {
      "text/html": [
       "<div>\n",
       "<style scoped>\n",
       "    .dataframe tbody tr th:only-of-type {\n",
       "        vertical-align: middle;\n",
       "    }\n",
       "\n",
       "    .dataframe tbody tr th {\n",
       "        vertical-align: top;\n",
       "    }\n",
       "\n",
       "    .dataframe thead th {\n",
       "        text-align: right;\n",
       "    }\n",
       "</style>\n",
       "<table border=\"1\" class=\"dataframe\">\n",
       "  <thead>\n",
       "    <tr style=\"text-align: right;\">\n",
       "      <th></th>\n",
       "      <th>review</th>\n",
       "      <th>liked</th>\n",
       "    </tr>\n",
       "  </thead>\n",
       "  <tbody>\n",
       "    <tr>\n",
       "      <th>0</th>\n",
       "      <td>More exams such as cocubes test might help.Eng...</td>\n",
       "      <td>1</td>\n",
       "    </tr>\n",
       "    <tr>\n",
       "      <th>1</th>\n",
       "      <td>Lame.</td>\n",
       "      <td>0</td>\n",
       "    </tr>\n",
       "    <tr>\n",
       "      <th>2</th>\n",
       "      <td>Good but still need improvement</td>\n",
       "      <td>1</td>\n",
       "    </tr>\n",
       "    <tr>\n",
       "      <th>3</th>\n",
       "      <td>Should improve</td>\n",
       "      <td>1</td>\n",
       "    </tr>\n",
       "    <tr>\n",
       "      <th>4</th>\n",
       "      <td>No serious step towards secured placement</td>\n",
       "      <td>0</td>\n",
       "    </tr>\n",
       "  </tbody>\n",
       "</table>\n",
       "</div>"
      ],
      "text/plain": [
       "                                              review  liked\n",
       "0  More exams such as cocubes test might help.Eng...      1\n",
       "1                                              Lame.      0\n",
       "2                    Good but still need improvement      1\n",
       "3                                     Should improve      1\n",
       "4          No serious step towards secured placement      0"
      ]
     },
     "execution_count": 5,
     "metadata": {},
     "output_type": "execute_result"
    }
   ],
   "source": [
    "data['liked'] = (data['liked'] > 2).astype(int)\n",
    "data.head()"
   ]
  },
  {
   "cell_type": "markdown",
   "metadata": {
    "_uuid": "68412f307c3bec3826c1e22825983db3da066841"
   },
   "source": [
    "Cleaning Data"
   ]
  },
  {
   "cell_type": "code",
   "execution_count": 6,
   "metadata": {
    "_uuid": "60b3597d808c07fbd1213699b2842c8725246852"
   },
   "outputs": [],
   "source": [
    "corpus = []\n",
    "for i in range(len(data.index)):\n",
    "    review = re.sub('[^a-zA-Z]', ' ', data['review'][i])\n",
    "    review = review.lower()\n",
    "    review = review.split()\n",
    "    ps = PorterStemmer()\n",
    "    review = [ps.stem(word) for word in review if not word in set(stopwords.words('english'))]\n",
    "    review = ' '.join(review)\n",
    "    corpus.append(review)"
   ]
  },
  {
   "cell_type": "markdown",
   "metadata": {
    "_uuid": "1bdb5c228015f54e0ecce9ca43deafa02f447534"
   },
   "source": [
    "Tokenization"
   ]
  },
  {
   "cell_type": "code",
   "execution_count": 7,
   "metadata": {
    "_uuid": "209400b4a152e35c39999c337f63ab6299b38e25"
   },
   "outputs": [
    {
     "data": {
      "text/plain": [
       "array([  2,  24,   1,   1,   1,   1,   1,   2,   1,   1,   1,   6,   1,\n",
       "         1,   1,   1,   1,   1,   5,   1,   1,   2,   1,   2,   1,   1,\n",
       "        13,   1,   1,   1,   2,   1,  10,   1,   1,   8,   4,   8,   7,\n",
       "         1,   1,   1,   1,   1,   1,   1,   1,   1,  20,   5,   3,   3,\n",
       "        13,   2,  13,  12,   4,   6,   6,   3,   2,   4,   3,   4,   2,\n",
       "         3,   3,   3,   5,   3,  12,   3,   8,   2,   2,   2,   4,   2,\n",
       "         1,   2,   3,   5, 151,   2,   5,   2,  18,   2,   2,   2,   2,\n",
       "         2,   3,   8,   2,   4,   5,   4,   3,   2,   4,   3,   2,   2,\n",
       "         2,   2,   2,   2,   2,   8,   4,   2,   2,   6,   4,   4,  15,\n",
       "         3,   5,  11,   5,   3,   3,   2,  37,   2,   3,   3,   6,   2,\n",
       "         9,   3,   1,   4,   2,   7,   2,   6,   1,   1,   3,   1,   1,\n",
       "         1,   1,   1,   2,   1,   1,   1,   1,   1,   2,   1,   1,   1,\n",
       "         3,   3,   1,   1,   1,   3,   1,   1,   3,   1,   1,   1,   3,\n",
       "         1,   1,   1,   1,   1,   1,   1,   1,   9,   1,   2,   1,   2,\n",
       "         1,   1,   1,   1,   4,   2,   1,   2,   1,  20,   3,   1,   1,\n",
       "         1,   1,   1,   1,   1,   1,   1,   1,   5,   1,   1,   2,   4,\n",
       "         1,   1,   1,   3,   1,   1,   1,   1,  11,   4,   1,   4,   4,\n",
       "         1,   1,   1,   1,   1,   1,   2,  24,   4,   1,   1,   1,   1,\n",
       "         2,   1,   1,   2,   1,   2,   1,   3,   1,   1,   2,   1,   2,\n",
       "         1,   3,   1,   1,   2], dtype=int64)"
      ]
     },
     "execution_count": 7,
     "metadata": {},
     "output_type": "execute_result"
    }
   ],
   "source": [
    "cv = CountVectorizer(max_features = 252) #choosing top 'n' most frequent tokens\n",
    "X = cv.fit_transform(corpus).toarray()\n",
    "y = data.iloc[:,-1].values\n",
    "np.asarray(X.sum(axis=0)) #frequency of tokens"
   ]
  },
  {
   "cell_type": "markdown",
   "metadata": {
    "_uuid": "da52d8e5cfd23ef5f9a4b4ae66a46468342487f0"
   },
   "source": [
    "Splitting Dataset into Train and Test"
   ]
  },
  {
   "cell_type": "code",
   "execution_count": 8,
   "metadata": {
    "_uuid": "7418e8273007b325e22346a148c7ff6c9d62a04d"
   },
   "outputs": [],
   "source": [
    "indices = range(len(data.index))\n",
    "X_train, X_test,y_train, y_test, indices_train, indices_test = train_test_split(X, y, indices, test_size = 0.3, random_state = random.randint(0, 1000))"
   ]
  },
  {
   "cell_type": "markdown",
   "metadata": {
    "_uuid": "ab83505f5d592362159ad5adf726690350474bd3"
   },
   "source": [
    "Feature Scaling"
   ]
  },
  {
   "cell_type": "code",
   "execution_count": 9,
   "metadata": {
    "_uuid": "8f53427e655a0a936c7f9938d785f5fdeb178bcd"
   },
   "outputs": [],
   "source": [
    "sc = StandardScaler()\n",
    "X_train = sc.fit_transform(X_train.astype(float))\n",
    "X_test = sc.transform(X_test.astype(float))"
   ]
  },
  {
   "cell_type": "markdown",
   "metadata": {
    "_uuid": "c39489da9d41e67a72db96a59f010d942e6b502f"
   },
   "source": [
    "Training the Model"
   ]
  },
  {
   "cell_type": "code",
   "execution_count": 10,
   "metadata": {
    "_uuid": "4be073741252a9d4aa2943bed4a195d69be7305b",
    "scrolled": true
   },
   "outputs": [
    {
     "data": {
      "text/plain": [
       "MLPClassifier(activation='tanh', alpha=1e-05, batch_size='auto', beta_1=0.9,\n",
       "       beta_2=0.999, early_stopping=True, epsilon=1e-08,\n",
       "       hidden_layer_sizes=(64, 64, 64, 32, 16, 4, 4, 4),\n",
       "       learning_rate='adaptive', learning_rate_init=0.15, max_iter=10000,\n",
       "       momentum=0.9, n_iter_no_change=10, nesterovs_momentum=True,\n",
       "       power_t=0.5, random_state=943, shuffle=True, solver='sgd',\n",
       "       tol=0.0001, validation_fraction=0.1, verbose=False,\n",
       "       warm_start=False)"
      ]
     },
     "execution_count": 10,
     "metadata": {},
     "output_type": "execute_result"
    }
   ],
   "source": [
    "clf = MLPClassifier(solver='sgd', activation = 'tanh', alpha=1e-5, hidden_layer_sizes=(64, 64, 64, 32, 16, 4, 4, 4), learning_rate_init = 0.15, learning_rate = 'adaptive', max_iter = 10000, random_state = random.randint(0, 1000), verbose = False, shuffle = True, early_stopping = True)\n",
    "clf.fit(X_train, y_train)"
   ]
  },
  {
   "cell_type": "markdown",
   "metadata": {
    "_uuid": "9e4b52d9579fa61fe85cb6b92c2cae5c49a0f83c"
   },
   "source": [
    "Testing Accuracy"
   ]
  },
  {
   "cell_type": "code",
   "execution_count": 11,
   "metadata": {
    "_uuid": "002e5b147b1e05dfa1d2eea5a5fc629cef88cb6a"
   },
   "outputs": [
    {
     "data": {
      "text/plain": [
       "0.9662921348314607"
      ]
     },
     "execution_count": 11,
     "metadata": {},
     "output_type": "execute_result"
    }
   ],
   "source": [
    "y_pred = clf.predict(X_test)\n",
    "accuracy_score(y_test, y_pred)"
   ]
  },
  {
   "cell_type": "code",
   "execution_count": 12,
   "metadata": {
    "_uuid": "a7b6853feec561357652c25fc8b7cbffad4708f9"
   },
   "outputs": [
    {
     "name": "stdout",
     "output_type": "stream",
     "text": [
      "                                          review  test  pred\n",
      "0                                        Average     1     1\n",
      "1                            Not fully completed     1     1\n",
      "2                              Nothing conducted     1     1\n",
      "3                                       helpfull     1     1\n",
      "4  We get Interactive and good ideas about this.     1     1\n"
     ]
    }
   ],
   "source": [
    "d = {'test': y_test, 'pred': y_pred}\n",
    "testpred = pd.DataFrame(data=d)\n",
    "testpred.insert(0, column = 'review', value = data['review'][indices_test].values)\n",
    "print(testpred.head())\n",
    "testpred.to_csv(\"output.csv\")"
   ]
  }
 ],
 "metadata": {
  "kernelspec": {
   "display_name": "Python 3",
   "language": "python",
   "name": "python3"
  },
  "language_info": {
   "codemirror_mode": {
    "name": "ipython",
    "version": 3
   },
   "file_extension": ".py",
   "mimetype": "text/x-python",
   "name": "python",
   "nbconvert_exporter": "python",
   "pygments_lexer": "ipython3",
   "version": "3.6.6"
  }
 },
 "nbformat": 4,
 "nbformat_minor": 1
}
